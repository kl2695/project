{
 "cells": [
  {
   "cell_type": "markdown",
   "metadata": {},
   "source": [
    "\n",
    "# Python graphics:  Matplotlib fundamentals\n",
    "\n",
    "We illustrate three approaches to graphing data with Python's Matplotlib package:    \n",
    "\n",
    "* [Approach 1](#Approach-1:--Apply-plot-methods-to-dataframes):  Apply a `plot()` method to a dataframe\n",
    "* [Approach 2](#Approach-2:--plt.plot):  Use the `plot(x,y)` function from `matplotlib.pyplot`\n",
    "* [Approach 3](#Approach-3:--Create-figure-objects-and-apply-methods):  Create a figure object and apply methods to it\n",
    "\n",
    "The last one is the least intuitive but also the most useful.  We work up to it gradually.  This [book chapter](https://davebackus.gitbooks.io/test/content/graphs1.html) covers the same material with more words and fewer pictures.  "
   ]
  },
  {
   "cell_type": "markdown",
   "metadata": {},
   "source": [
    "## Reminders\n",
    "\n",
    "* **Packages**:  collections of tools that we access with `import` statements\n",
    "* **Pandas**:  Python's data package \n",
    "* **Objects** and **methods**:  we apply the method `justdoit` to the object `x` with `x.justdoit`\n",
    "* **Dataframe**:  a spreadsheet-like data structure \n",
    "* **Series**:  a single variable \n",
    "* **Jupyter**:  an environment for combining code with text and graphics "
   ]
  },
  {
   "cell_type": "markdown",
   "metadata": {},
   "source": [
    "## Preliminaries \n",
    "\n",
    "### Jupyter \n",
    "\n",
    "Look around, what do you see?  Check out the **menubar** at the top:  File, Edit, etc.  Also the **toolbar** below it.  Click on Help -> User Interface Tour for a tour of the landscape.  \n",
    "\n",
    "The **cells** below come in two forms.  Those labeled Code (see the menu in the toolbar) are Python code.  Those labeled Markdown are text.  "
   ]
  },
  {
   "cell_type": "markdown",
   "metadata": {},
   "source": [
    "### Markdown \n",
    "\n",
    "\n",
    "Markdown is a simplified version of html (\"hypertext markup language\"), the language used to construct basic websites.  html was a great thing in 1995, but now that the excitement has warn off we find it painful.  Markdown, however, has a zen-like simplicity and beauty.  Here are some things we can do with it:\n",
    "\n",
    "* Headings.  Large bold headings are marked by hashes (`#`).  One hash for first level (very large), two for second level (a little smaller), three for third level (smaller still), four for fourth (the smallest).  Try these in a Markdown cell to see how they look:\n",
    "\n",
    "   ```\n",
    "   # Data Bootcamp sandbox\n",
    "   ## Data Bootcamp sandbox\n",
    "   ### Data Bootcamp sandbox\n",
    "   ```\n",
    "\n",
    "  Be sure to run the cell when you're done (`shift enter`).\n",
    "\n",
    "* Bold and italics.  If we put a word or phrase between double asterisks, it's displayed in bold.  Thus `**bold**` displays as **bold**.  If we use single asterisks, we get italics:  `*italics*` displays as *italics*.\n",
    "\n",
    "* Bullet lists.  If we want a list of items marked by bullets, we start with a blank line and mark each item with an asterisk on a new line:\n",
    "\n",
    "  ```markdown\n",
    "  * something\n",
    "  * something else\n",
    "  ```\n",
    "\n",
    "  Try it and see.\n",
    "\n",
    "* Links.   We construct a link with the text in square brackets and the url in parentheses immediately afterwards.  Try this one:\n",
    "\n",
    "  ```\n",
    "  [Data Bootcamp course](http://databootcamp.nyuecon.com/)\n",
    "  ```\n",
    "\n",
    "We can find more information about Markdown under Help.  Or use your Google fu.  We like the [Daring Fireball](https://daringfireball.net/projects/markdown/) description.\n",
    "\n",
    "\n",
    "Markdown is ubiquitous.  This book, for example, is written in Markdown.  Look [here](https://github.com/NYUDataBootcamp/Book) for a list of chapter files.  Click on one to see how it displays.  Click on the Raw button at the top to see the Markdown file that produced it.\n",
    "\n",
    "**Exercise.** Create a description cell in Markdown at the top of your notebook.  It should include your name and a description of what you're doing in the notebook.  For example: \"Joan Watson's notes on the Data Bootcamp Matplotlib notebook\" and a date.  *Bonus points:*  Add a link.\n",
    "\n",
    "**Exercise.**  Add two new cells.  In the first one, add the statement `import pandas as pd`, labelled as code.  Run it.  Use the second cell to find documentation for `pd.read_csv`."
   ]
  },
  {
   "cell_type": "markdown",
   "metadata": {},
   "source": [
    "### Import packages\n"
   ]
  },
  {
   "cell_type": "code",
   "execution_count": null,
   "metadata": {
    "collapsed": false
   },
   "outputs": [],
   "source": [
    "import sys                             # system module\n",
    "import pandas as pd                    # data package\n",
    "import matplotlib as mpl               # graphics package\n",
    "import matplotlib.pyplot as plt      # pyplot module\n",
    "import datetime as dt                  # date and time module\n",
    "# make plots show up in notebook\n",
    "%matplotlib inline                     \n",
    "\n",
    "# check versions (overkill, but why not?)\n",
    "print('Python version:', sys.version)\n",
    "print('Pandas version: ', pd.__version__)\n",
    "print('Matplotlib version: ', mpl.__version__)\n",
    "print('Today: ', dt.date.today())"
   ]
  },
  {
   "cell_type": "markdown",
   "metadata": {},
   "source": [
    "**Comment.**  When you run the code cell above, its output appears below it.  \n",
    "\n",
    "**Exercise.** Enter `pd.read_csv?` in the empty cell below.  Run the cell (Cell at the top, or shift-enter).  Do you see the documentation?  This is the Jupyter version of help in Spyder's IPython console.  "
   ]
  },
  {
   "cell_type": "markdown",
   "metadata": {},
   "source": [
    "### Create dataframes to play with \n",
    "\n",
    "* US GDP and consumption \n",
    "* World Bank GDP per capita for several countries \n",
    "* Fama-French equity returns "
   ]
  },
  {
   "cell_type": "code",
   "execution_count": null,
   "metadata": {
    "collapsed": false
   },
   "outputs": [],
   "source": [
    "gdp  = [13271.1, 13773.5, 14234.2, 14613.8, 14873.7, 14830.4, 14418.7,\n",
    "        14783.8, 15020.6, 15369.2, 15710.3]\n",
    "pce  = [8867.6, 9208.2, 9531.8, 9821.7, 10041.6, 10007.2, 9847.0, 10036.3,\n",
    "        10263.5, 10449.7, 10699.7]\n",
    "year = list(range(2003,2014))        # use range for years 2003-2013\n",
    "\n",
    "# Note that we set the index\n",
    "us = pd.DataFrame({'gdp': gdp, 'pce': pce}, index=year)\n",
    "print(us.head(3))"
   ]
  },
  {
   "cell_type": "code",
   "execution_count": null,
   "metadata": {
    "collapsed": false
   },
   "outputs": [],
   "source": [
    "code    = ['USA', 'FRA', 'JPN', 'CHN', 'IND', 'BRA', 'MEX']\n",
    "country = ['United States', 'France', 'Japan', 'China', 'India',\n",
    "             'Brazil', 'Mexico']\n",
    "gdppc   = [53.1, 36.9, 36.3, 11.9, 5.4, 15.0, 16.5]\n",
    "\n",
    "wbdf = pd.DataFrame({'gdppc': gdppc, 'country': country}, index=code)\n",
    "wbdf"
   ]
  },
  {
   "cell_type": "markdown",
   "metadata": {},
   "source": [
    "**Comment.**  In the previous cell, we used the `print()` function to produce output.  Here we just put the name of the dataframe.  The latter displays the dataframe -- and formats it nicely -- **if it's the last statement in the cell**.  "
   ]
  },
  {
   "cell_type": "code",
   "execution_count": null,
   "metadata": {
    "collapsed": false
   },
   "outputs": [],
   "source": [
    "import pandas.io.data as web\n",
    "ff = web.DataReader('F-F_Research_Data_factors', 'famafrench')[1]\n",
    "ff.columns = ['xsm', 'smb', 'hml', 'rf']\n",
    "ff['rm'] = ff['xsm'] + ff['rf']\n",
    "ff = ff[['rm', 'rf']]               # extract rm (market) and rf (riskfree)\n",
    "ff.head(5)"
   ]
  },
  {
   "cell_type": "markdown",
   "metadata": {},
   "source": [
    "**Comment.**  If you see a warning in pink it is probably telling us that the Pandas DataReader will be spun off into a separate package in the near future.  "
   ]
  },
  {
   "cell_type": "markdown",
   "metadata": {},
   "source": [
    "**Exercise.** What kind of object is `wbdf`?  What are its column and row labels?\n",
    "\n",
    "**Exercise.** What is `ff.index`?  What does that tell us?"
   ]
  },
  {
   "cell_type": "markdown",
   "metadata": {},
   "source": [
    "## Digression:  Graphing in Excel\n",
    "\n",
    "Remind yourself that we need to choose:\n",
    "\n",
    "* Data.  We would highlight a block of cells in a spreadsheet.\n",
    "* Chart type.  Lines, bars, scatter plots, and so on.\n",
    "* `x` and `y` variables.  Typically we graph some `y` variable -- or perhaps several of them -- against an `x` variable, with `x` on the horizontal axis and `y` on the vertical axis.  We need to tell Excel which is which.\n",
    "\n",
    "We'll see the same in Matplotlib."
   ]
  },
  {
   "cell_type": "markdown",
   "metadata": {},
   "source": [
    "##  Approach 1:  Apply plot methods to dataframes\n",
    "\n",
    "The simplest way to produce graphics from a dataframe is to apply a plot method to it.  Simple is good, we do this a lot.\n",
    "\n",
    "If we compare this to Excel, we will see that a number of things are preset for us:\n",
    "\n",
    "* Data.  By default (meaning, if we don't do anything to change it) the data consists of the whole dataframe.\n",
    "* Chart type.  We'll see below that we have options for lines, bars, or other things.\n",
    "* `x` and `y` variables.  By default, the `x` variable is the dataframe's index and the `y` variables are the columns of the dataframe -- all of them that can be plotted (e.g. columns with a numeric dtype).\n",
    "\n",
    "We can change all of these things, just as we can in Excel, but that's the starting point.\n",
    "\n",
    "Let's do some examples, see how they work."
   ]
  },
  {
   "cell_type": "markdown",
   "metadata": {},
   "source": [
    "### US GDP and consumption"
   ]
  },
  {
   "cell_type": "code",
   "execution_count": null,
   "metadata": {
    "collapsed": false
   },
   "outputs": [],
   "source": [
    "# try this with US GDP\n",
    "us.plot()"
   ]
  },
  {
   "cell_type": "code",
   "execution_count": null,
   "metadata": {
    "collapsed": false
   },
   "outputs": [],
   "source": [
    "# do GDP alone\n",
    "us['gdp'].plot()"
   ]
  },
  {
   "cell_type": "code",
   "execution_count": null,
   "metadata": {
    "collapsed": false
   },
   "outputs": [],
   "source": [
    "us.plot(y=\"gdp\")"
   ]
  },
  {
   "cell_type": "code",
   "execution_count": null,
   "metadata": {
    "collapsed": false
   },
   "outputs": [],
   "source": [
    "# bar chart \n",
    "us.plot(kind='bar')"
   ]
  },
  {
   "cell_type": "code",
   "execution_count": null,
   "metadata": {
    "collapsed": false
   },
   "outputs": [],
   "source": [
    "# scatter plot \n",
    "# we need to be explicit about the x and y variables: x = 'gdp', y = 'pce'\n",
    "us.plot.scatter('gdp', 'pce')"
   ]
  },
  {
   "cell_type": "markdown",
   "metadata": {},
   "source": [
    "**Exercise.** Enter `us.plot(kind='bar')` and `us.plot.bar()` in separate cells.  Show that they produce the same bar chart.  \n",
    "\n",
    "**Exercise.**  Add each of these arguments, one at a time, to `us.plot()`:  \n",
    "\n",
    "* `kind='area'`\n",
    "* `subplots=True`\n",
    "* `sharey=True`\n",
    "* `figsize=(3,6)`\n",
    "* `ylim=(0,16000)`\n",
    "\n",
    "What do they do?\n",
    "\n",
    "**Exercise.** Type `us.plot?` in a new cell.  Run the cell (shift-enter or click on the run cell icon).  What options do you see for the `kind=` argument?  Which ones have we tried?  What are the other ones?  "
   ]
  },
  {
   "cell_type": "markdown",
   "metadata": {},
   "source": [
    "### Fama-French asset returns "
   ]
  },
  {
   "cell_type": "code",
   "execution_count": null,
   "metadata": {
    "collapsed": false
   },
   "outputs": [],
   "source": [
    "# now try a few things with the Fama-French data\n",
    "ff.plot()"
   ]
  },
  {
   "cell_type": "markdown",
   "metadata": {},
   "source": [
    "**Exercise.** What do each of the arguments do in the code below?  "
   ]
  },
  {
   "cell_type": "code",
   "execution_count": null,
   "metadata": {
    "collapsed": false
   },
   "outputs": [],
   "source": [
    "ff.plot(kind='hist',         \n",
    "        bins=20,             \n",
    "        subplots=True)       "
   ]
  },
  {
   "cell_type": "code",
   "execution_count": null,
   "metadata": {
    "collapsed": false
   },
   "outputs": [],
   "source": [
    "# \"smoothed\" histogram \n",
    "ff.plot(kind='kde', subplots=True, sharex=True)    # smoothed histogram (\"kernel density estimate\")"
   ]
  },
  {
   "cell_type": "markdown",
   "metadata": {},
   "source": [
    "**Exercise.**  Let's see if we can dress up the histogram a little.  Try adding, one at a time, the arguments `title='Fama-French returns'`, `grid=True`, and `legend=False`.  What does the documentation say about them?  What do they do?  \n",
    "\n",
    "**Exercise.**  What do the histograms tell us about the two returns?  How do they differ?  \n",
    "\n",
    "\n",
    "**Exercise.**  Use the World Bank dataframe `wbdf` to create a bar chart of GDP per capita, the variable `'gdppc'`. *Bonus points:* Create a horizontal bar chart. Which do you prefer?  "
   ]
  },
  {
   "cell_type": "markdown",
   "metadata": {},
   "source": [
    "## Approach 2:  `plt.plot`\n",
    "\n",
    "Next up:  the popular `plot(x,y)` function from the pyplot module of Matplotlib.  We never use this and will go over it at high speed -- or perhaps not at all.\n",
    "\n",
    "We import the pyplot module with"
   ]
  },
  {
   "cell_type": "code",
   "execution_count": null,
   "metadata": {
    "collapsed": true
   },
   "outputs": [],
   "source": [
    "import matplotlib.pyplot as plt"
   ]
  },
  {
   "cell_type": "code",
   "execution_count": null,
   "metadata": {
    "collapsed": false
   },
   "outputs": [],
   "source": [
    "plt.plot(us.index, us['gdp'])"
   ]
  },
  {
   "cell_type": "markdown",
   "metadata": {},
   "source": [
    "**Exercise.** What is the `x` variable here?  The `y` variable?  "
   ]
  },
  {
   "cell_type": "code",
   "execution_count": null,
   "metadata": {
    "collapsed": false
   },
   "outputs": [],
   "source": [
    "# we can do two lines together\n",
    "plt.plot(us.index, us['gdp'])\n",
    "plt.plot(us.index, us['pce'])"
   ]
  },
  {
   "cell_type": "code",
   "execution_count": null,
   "metadata": {
    "collapsed": false
   },
   "outputs": [],
   "source": [
    "# or a bar chart \n",
    "plt.bar(us.index, us['gdp'], align='center')"
   ]
  },
  {
   "cell_type": "markdown",
   "metadata": {},
   "source": [
    "**Exercise.** Experiment with \n",
    "```python\n",
    "plt.bar(us.index, us['gdp'], \n",
    "        align='center', \n",
    "        alpha=0.65, \n",
    "        color='red', \n",
    "        edgecolor='green')\n",
    "```\n",
    "Play with the arguments one by one to see what they do.  Or use `plt.bar?` to look them up.  Add comments to remind yourself. *Bonus points:*  Can you make this graph even uglier?  "
   ]
  },
  {
   "cell_type": "code",
   "execution_count": null,
   "metadata": {
    "collapsed": false
   },
   "outputs": [],
   "source": [
    "# we can also add things to plots \n",
    "plt.plot(us.index, us['gdp']) \n",
    "plt.plot(us.index, us['pce']) \n",
    "\n",
    "plt.title('US GDP', fontsize=14, loc='left') # add title\n",
    "plt.ylabel('Billions of 2009 USD')           # y axis label \n",
    "plt.xlim(2002.5, 2013.5)                     # shrink x axis limits\n",
    "plt.tick_params(labelcolor='red')            # change tick labels to red\n",
    "plt.legend(['GDP', 'Consumption'])           # more descriptive variable namesDescribe what each of these arguments/parameters does."
   ]
  },
  {
   "cell_type": "markdown",
   "metadata": {},
   "source": [
    "**Comment.** All of these statements must be in the same cell for this to work.  \n",
    "\n",
    "**Comment.** This is overkill -- it looks horrible -- but it makes the point that we control everything in the plot.  We recommend you do very little of this until you're more comfortable with the basics.  "
   ]
  },
  {
   "cell_type": "markdown",
   "metadata": {},
   "source": [
    "**Exercise.** Add a `plt.ylim()` statement to make the `y` axis start at zero, as it did in the bar charts.  *Bonus points:*  Change the color to magenta and the linewidth to 2.  *Hint:*  Use `plt.ylim?` and `plt.plot?` to get the documentation.  "
   ]
  },
  {
   "cell_type": "code",
   "execution_count": null,
   "metadata": {
    "collapsed": true
   },
   "outputs": [],
   "source": []
  },
  {
   "cell_type": "markdown",
   "metadata": {},
   "source": [
    "**Exercise.** Create a line plot for the Fama-French dataframe `ff` that includes both returns.  *Bonus points:* Add a title and label the y axis.  "
   ]
  },
  {
   "cell_type": "code",
   "execution_count": null,
   "metadata": {
    "collapsed": true
   },
   "outputs": [],
   "source": []
  },
  {
   "cell_type": "markdown",
   "metadata": {},
   "source": [
    "## Approach 3:  Create figure objects and apply methods\n",
    "\n",
    "This approach was mysterious to us at first, but it's now our favorite.  The idea is to generate an object -- two objects, in fact -- and apply methods to them to produce the various elements of a graph:  the data, their axes, their labels, and so on.\n",
    "\n",
    "We do this -- as usual -- one step at a time.\n",
    "\n",
    "**Create objects.**   We'll see these two lines over and over:"
   ]
  },
  {
   "cell_type": "code",
   "execution_count": null,
   "metadata": {
    "collapsed": false
   },
   "outputs": [],
   "source": [
    "type(ax)"
   ]
  },
  {
   "cell_type": "code",
   "execution_count": null,
   "metadata": {
    "collapsed": false
   },
   "outputs": [],
   "source": [
    "# create fig and ax objects\n",
    "fig, ax = plt.subplots(2)"
   ]
  },
  {
   "cell_type": "markdown",
   "metadata": {},
   "source": [
    "**Exercise.** What do we have here?  What `type` are `fig` and `ax`?  "
   ]
  },
  {
   "cell_type": "markdown",
   "metadata": {},
   "source": []
  },
  {
   "cell_type": "code",
   "execution_count": null,
   "metadata": {
    "collapsed": false
   },
   "outputs": [],
   "source": [
    "# let's try that again, this time with content  \n",
    "# create objects \n",
    "fig, axe = plt.subplots()\n",
    "\n",
    "# add things by applying methods to ax \n",
    "us.plot(ax=axe) "
   ]
  },
  {
   "cell_type": "markdown",
   "metadata": {},
   "source": [
    "**Comment.** Both of these statements must be in the same cell.  "
   ]
  },
  {
   "cell_type": "code",
   "execution_count": null,
   "metadata": {
    "collapsed": false
   },
   "outputs": [],
   "source": [
    "# Fama-French example \n",
    "fig, ax = plt.subplots()\n",
    "ff.plot(ax=ax, \n",
    "        kind='line',                 # line plot \n",
    "        color=['blue', 'magenta'],   # line color \n",
    "        title='Fama-French market and riskfree returns')"
   ]
  },
  {
   "cell_type": "markdown",
   "metadata": {},
   "source": [
    "**Exercise.**  Let's see if we can teach ourselves the rest:  \n",
    "\n",
    "* Add the argument `kind='hist'` to convert this into a histogram.\n",
    "* Add the argument `alpha=0.65` to the bar chart.  What does it do?  \n",
    "* What would you change in the hisogram chart to make it look better?  Use the help facility to find options that might help.  Which ones appeal to you?  "
   ]
  },
  {
   "cell_type": "code",
   "execution_count": null,
   "metadata": {
    "collapsed": false
   },
   "outputs": [],
   "source": [
    "fig, ax = plt.subplots(2)"
   ]
  },
  {
   "cell_type": "code",
   "execution_count": null,
   "metadata": {
    "collapsed": false
   },
   "outputs": [],
   "source": [
    "ax[0]"
   ]
  },
  {
   "cell_type": "code",
   "execution_count": null,
   "metadata": {
    "collapsed": false
   },
   "outputs": [],
   "source": [
    "# Fama-French example \n",
    "fig, ax = plt.subplots(2)\n",
    "ff.plot(ax=ax[0], \n",
    "        kind='hist',                 # line plot \n",
    "        color=['blue', 'magenta'],   # line color \n",
    "        alpha=0.65,\n",
    "        bins=20,\n",
    "        title='Fama-French market and riskfree returns')\n",
    "\n",
    "ff.plot(ax=ax[1], \n",
    "        kind='kde',                 # line plot \n",
    "        color=['blue', 'magenta'],   # line color \n",
    "        title='Fama-French market and riskfree returns',\n",
    "        alpha=0.65)\n",
    "\n",
    "fig.tight_layout()"
   ]
  },
  {
   "cell_type": "markdown",
   "metadata": {},
   "source": [
    "## Quick review of the bidding\n",
    "\n",
    "Take a deep breath.  We've covered a lot of ground, let's take stock.  \n",
    "\n",
    "We looked at three ways to use Matplotlib:\n",
    "\n",
    "* Approach #1:  apply plot method to dataframe\n",
    "* Approach #2:  use `plot(x,y)` function \n",
    "* Approach #3:  create `fig, ax` objects, apply plot methods to them\n",
    "\n",
    "Same result, different syntax.  This is what each of them looks like applied to US GDP: \n",
    "\n",
    "```python\n",
    "us['gdp'].plot()                   # Approach #1\n",
    "\n",
    "plt.plot(us.index, us['gdp'])      # Approach #2\n",
    "\n",
    "fig, ax = plt.subplots()           # Approach #3 \n",
    "ax.plot(us.index, us['gdp'])  \n",
    "\n",
    "# Or\n",
    "fig, ax = plt.subplots()           # Approach #3 \n",
    "us['gdp'].plot(ax=ax)\n",
    "```"
   ]
  },
  {
   "cell_type": "markdown",
   "metadata": {},
   "source": [
    "Each one produces the same graph.\n",
    "\n",
    "Which one should we use?  **Use Approach #3.**  Really.  This is a case where choice is confusing.\n",
    "\n",
    "We also suggest you not commit any of this to memory.  If you use end up using it a lot, you'll remember it.  If you don't, it's not worth remembering.  We typically start with examples anyway rather than creating new graphs from scratch."
   ]
  },
  {
   "cell_type": "markdown",
   "metadata": {},
   "source": [
    "## Bells and whistles\n",
    "\n",
    "### Adding things to graphs\n",
    "\n",
    "We have lots of choices.  Here's an example."
   ]
  },
  {
   "cell_type": "code",
   "execution_count": null,
   "metadata": {
    "collapsed": false
   },
   "outputs": [],
   "source": [
    "fig, ax = plt.subplots()\n",
    "\n",
    "us.plot(ax=ax)       \n",
    "ax.set_title('US GDP and Consumption', fontsize=14, loc='left')\n",
    "ax.set_ylabel('Billions of 2013 USD')\n",
    "ax.legend(['Real GDP', 'Consumption'], loc=0)  # more descriptive variable names \n",
    "ax.set_xlim(2002.5, 2013.5)                    # expand x axis limits\n",
    "ax.tick_params(labelcolor='red')               # change tick labels to red\n",
    "ax.set_ylim(0)"
   ]
  },
  {
   "cell_type": "markdown",
   "metadata": {},
   "source": [
    "(Your results may differ, but we really enjoyed that.) "
   ]
  },
  {
   "cell_type": "markdown",
   "metadata": {},
   "source": [
    "**Exercise.** Use the `set_xlabel()` method to add an x-axis label.  What would you choose?  Or would you prefer to leave it empty?  \n",
    "\n",
    "**Exercise.** Enter `ax.legend?` to access the documentation for the `legend` method.  What options appeal to you?  \n",
    "\n",
    "**Exercise.**  Change the line width to 2 and the line colors to blue and magenta.  *Hint:*  Use `us.plot?` to get the documentation.  \n",
    "\n",
    "**Exercise (challenging).** Use the `set_ylim()` method to start the `y` axis at zero.  *Hint:*  Use `ax.set_ylim?` to get the documentation.  \n",
    "\n",
    "**Exercise.** Create a line plot for the Fama-French dataframe `ff` that includes both returns.  *Bonus points:* Add a title with the `set_title` method.  "
   ]
  },
  {
   "cell_type": "code",
   "execution_count": null,
   "metadata": {
    "collapsed": false
   },
   "outputs": [],
   "source": [
    "fig, ax = plt.subplots()\n",
    "\n",
    "us.plot(ax=ax, lw=2)       \n",
    "ax.set_title('US GDP and Consumption', fontsize=14, loc='left')\n",
    "ax.set_ylabel('Billions of 2013 USD')\n",
    "ax.legend(['Real GDP', 'Consumption'], loc=0)  # more descriptive variable names \n",
    "ax.set_xlim(2002.5, 2013.5)                    # expand x axis limits\n",
    "ax.tick_params(labelcolor='red')               # change tick labels to red\n",
    "ax.set_ylim(0)"
   ]
  },
  {
   "cell_type": "markdown",
   "metadata": {},
   "source": [
    "### Multiple subplots \n",
    "\n",
    "Same idea, but we create a multidimensional `ax` and apply methods to each component. Here we redo the plots of US GDP and consumption.  "
   ]
  },
  {
   "cell_type": "code",
   "execution_count": null,
   "metadata": {
    "collapsed": false
   },
   "outputs": [],
   "source": [
    "fig, ax = plt.subplots(nrows=2, ncols=2, sharex=True)\n",
    "print('Object ax has dimension', ax.size)"
   ]
  },
  {
   "cell_type": "code",
   "execution_count": null,
   "metadata": {
    "collapsed": false
   },
   "outputs": [],
   "source": [
    "fig, ax = plt.subplots(nrows=2, ncols=2, sharex=True)\n",
    "print('Object ax has dimension', ax.size)\n",
    "\n",
    "us.plot(ax=ax[1, 0])"
   ]
  },
  {
   "cell_type": "code",
   "execution_count": null,
   "metadata": {
    "collapsed": false
   },
   "outputs": [],
   "source": [
    "# now add some content \n",
    "fig, ax = plt.subplots(nrows=2, ncols=1, sharex=True, sharey=True)\n",
    "\n",
    "us['gdp'].plot(ax=ax[0], color='green')   # first plot\n",
    "us['pce'].plot(ax=ax[1], color='red')     # second plot"
   ]
  },
  {
   "cell_type": "code",
   "execution_count": null,
   "metadata": {
    "collapsed": true
   },
   "outputs": [],
   "source": []
  },
  {
   "cell_type": "markdown",
   "metadata": {},
   "source": [
    "## Examples\n",
    "\n",
    "We conclude with examples that take data from the previous chapter and make better graphs than we did there."
   ]
  },
  {
   "cell_type": "markdown",
   "metadata": {},
   "source": [
    "### Student test scores (PISA) \n",
    "\n",
    "The international test scores often used to compare quality of education across countries.  "
   ]
  },
  {
   "cell_type": "code",
   "execution_count": null,
   "metadata": {
    "collapsed": true
   },
   "outputs": [],
   "source": [
    "# data input \n",
    "import pandas as pd\n",
    "url = 'http://dx.doi.org/10.1787/888932937035'\n",
    "pisa = pd.read_excel(url, \n",
    "                     skiprows=18,     # skip the first 18 rows \n",
    "                     skipfooter=7,    # skip the last 7 \n",
    "                     parse_cols=[0,1,9,13], # select columns \n",
    "                     index_col=0,     # set index = first column\n",
    "                     header=[0,1]     # set variable names \n",
    "                     )\n",
    "pisa = pisa.dropna()                          # drop blank lines \n",
    "pisa.columns = ['Math', 'Reading', 'Science'] # simplify variable names "
   ]
  },
  {
   "cell_type": "code",
   "execution_count": null,
   "metadata": {
    "collapsed": false
   },
   "outputs": [],
   "source": [
    "# bar chart of math scores \n",
    "fig, ax = plt.subplots()\n",
    "pisa['Math'].plot(kind='barh', ax=ax)  "
   ]
  },
  {
   "cell_type": "markdown",
   "metadata": {},
   "source": [
    "**Comment.** Yikes!  That's horrible!  What can we do about it? Any suggestions?\n",
    "\n",
    "Let's make the figure taller.  The `figsize` argument has the form `(width, height)`.  The default is `(6, 4)`.  We want a tall figure, so we need to increase the height setting.  "
   ]
  },
  {
   "cell_type": "code",
   "execution_count": null,
   "metadata": {
    "collapsed": false
   },
   "outputs": [],
   "source": [
    "# make the plot taller \n",
    "fig, ax = plt.subplots(figsize=(4, 13))  # note figsize \n",
    "pisa['Math'].plot(kind='barh', ax=ax)  \n",
    "ax.set_title('PISA Math Score', loc='left')"
   ]
  },
  {
   "cell_type": "markdown",
   "metadata": {},
   "source": [
    "**Comment.** What if we wanted to make the US bar red?  This is **far too** complicated, but we used our Google fu and found [a solution](http://stackoverflow.com/questions/18973404/setting-different-bar-color-in-matplotlib-python).  Remember: The solution to many problems is Google fu + patience.    "
   ]
  },
  {
   "cell_type": "code",
   "execution_count": null,
   "metadata": {
    "collapsed": false
   },
   "outputs": [],
   "source": [
    "fig, ax = plt.subplots()\n",
    "pisa['Math'].plot(ax=ax, kind='barh', figsize=(4,13))\n",
    "ax.set_title('PISA Math Score', loc='left')\n",
    "ax.get_children()[36].set_color('r')"
   ]
  },
  {
   "cell_type": "code",
   "execution_count": null,
   "metadata": {
    "collapsed": false
   },
   "outputs": [],
   "source": [
    "kids = ax.get_children()\n",
    "type(kids)"
   ]
  },
  {
   "cell_type": "code",
   "execution_count": null,
   "metadata": {
    "collapsed": false
   },
   "outputs": [],
   "source": [
    "len(kids)"
   ]
  },
  {
   "cell_type": "code",
   "execution_count": null,
   "metadata": {
    "collapsed": false
   },
   "outputs": [],
   "source": [
    "pisa.shape"
   ]
  },
  {
   "cell_type": "code",
   "execution_count": null,
   "metadata": {
    "collapsed": false
   },
   "outputs": [],
   "source": [
    "for kid in kids:\n",
    "    print(type(kid))"
   ]
  },
  {
   "cell_type": "markdown",
   "metadata": {},
   "source": [
    "**Exercise.** Create the same graph for the Reading score.  "
   ]
  },
  {
   "cell_type": "code",
   "execution_count": null,
   "metadata": {
    "collapsed": true
   },
   "outputs": [],
   "source": []
  },
  {
   "cell_type": "code",
   "execution_count": null,
   "metadata": {
    "collapsed": true
   },
   "outputs": [],
   "source": []
  },
  {
   "cell_type": "markdown",
   "metadata": {},
   "source": [
    "### World Bank data\n",
    "\n",
    "We'll use World Bank data for GDP, GDP per capita, and life expectancy to produce a few graphs and illsutrate some methods we haven't seen yet.   \n",
    "\n",
    "* Bar charts of GDP and GDP per capita \n",
    "* Scatter plot (bubble plot) of life expectancy v GDP per capita "
   ]
  },
  {
   "cell_type": "code",
   "execution_count": null,
   "metadata": {
    "collapsed": false
   },
   "outputs": [],
   "source": [
    "# load packages (redundancy is ok)\n",
    "import pandas as pd                   # data management tools\n",
    "from pandas.io import wb              # World Bank api\n",
    "import matplotlib.pyplot as plt       # plotting tools\n",
    "%matplotlib inline\n",
    "\n",
    "# variable list (GDP, GDP per capita, life expectancy)\n",
    "var = ['NY.GDP.PCAP.PP.KD', 'NY.GDP.MKTP.PP.KD', 'SP.DYN.LE00.IN']  \n",
    "# country list (ISO codes)\n",
    "iso = ['USA', 'FRA', 'JPN', 'CHN', 'IND', 'BRA', 'MEX']\n",
    "year = 2013\n",
    "\n",
    "# get data from World Bank \n",
    "df = wb.download(indicator=var, country=iso, start=year, end=year)\n",
    "\n",
    "# massage data\n",
    "df = df.reset_index(level='year', drop=True)\n",
    "df.columns = ['gdppc', 'gdp', 'life'] # rename variables\n",
    "df['pop']  = df['gdp']/df['gdppc']    # population \n",
    "df['gdp'] = df['gdp']/10**12          # convert to trillions\n",
    "df['gdppc'] = df['gdppc']/10**3       # convert to thousands\n",
    "df['order'] = [5, 3, 1, 4, 2, 6, 0]   # reorder countries\n",
    "df = df.sort_values(by='order', ascending=False)\n",
    "df"
   ]
  },
  {
   "cell_type": "code",
   "execution_count": null,
   "metadata": {
    "collapsed": true
   },
   "outputs": [],
   "source": [
    "# We'll use this same basic graph a few times.\n",
    "# Let's make a function so we don't have to repeat the\n",
    "# code to create \n",
    "def gdp_bar(variable=\"gdp\"):\n",
    "    fig, ax = plt.subplots()\n",
    "    df[variable].plot(ax=ax, kind='barh', alpha=0.5)\n",
    "    ax.set_title('Real GDP', loc='left', fontsize=14)\n",
    "    ax.set_xlabel('Trillions of US Dollars')\n",
    "    ax.set_ylabel('')\n",
    "    return fig, ax\n",
    "    "
   ]
  },
  {
   "cell_type": "code",
   "execution_count": null,
   "metadata": {
    "collapsed": false
   },
   "outputs": [],
   "source": [
    "gdp_bar()"
   ]
  },
  {
   "cell_type": "code",
   "execution_count": null,
   "metadata": {
    "collapsed": false
   },
   "outputs": [],
   "source": [
    "# ditto for GDP per capita (per person)\n",
    "fig, ax = gdp_bar(\"gdppc\")\n",
    "ax.set_title('GDP Per Capita', loc='left', fontsize=14)"
   ]
  },
  {
   "cell_type": "markdown",
   "metadata": {},
   "source": [
    "And just because it's fun, here's an example of Tufte-like axes from [Matplotlib examples](http://matplotlib.org/examples/ticks_and_spines/spines_demo_dropped.html):"
   ]
  },
  {
   "cell_type": "code",
   "execution_count": null,
   "metadata": {
    "collapsed": false
   },
   "outputs": [],
   "source": [
    "fig, ax = gdp_bar()\n",
    "\n",
    "# Tufte-like axes\n",
    "ax.spines['left'].set_position(('outward', 7))\n",
    "ax.spines['bottom'].set_position(('outward', 7))\n",
    "ax.spines['right'].set_visible(False)\n",
    "ax.spines['top'].set_visible(False)\n",
    "ax.yaxis.set_ticks_position('left')\n",
    "ax.xaxis.set_ticks_position('bottom')"
   ]
  },
  {
   "cell_type": "markdown",
   "metadata": {},
   "source": [
    "**Exercise (challenging).**  Make the ticks point out.  "
   ]
  },
  {
   "cell_type": "code",
   "execution_count": null,
   "metadata": {
    "collapsed": true
   },
   "outputs": [],
   "source": []
  },
  {
   "cell_type": "code",
   "execution_count": null,
   "metadata": {
    "collapsed": false
   },
   "outputs": [],
   "source": [
    "# scatterplot of life expectancy vs gdp per capita\n",
    "fig, ax = plt.subplots()\n",
    "ax.scatter(df['gdppc'], df['life'],     # x,y variables\n",
    "            s=df['pop']/10**6,          # size of bubbles\n",
    "            alpha=0.5)   \n",
    "ax.set_title('Life expectancy vs. GDP per capita', loc='left', fontsize=14)\n",
    "ax.set_xlabel('GDP Per Capita')\n",
    "ax.set_ylabel('Life Expectancy')\n",
    "ax.text(58, 66, 'Bubble size represents population', horizontalalignment='right')"
   ]
  },
  {
   "cell_type": "markdown",
   "metadata": {},
   "source": [
    "**Exercise.** Make the bubble a little larger.  "
   ]
  },
  {
   "cell_type": "code",
   "execution_count": null,
   "metadata": {
    "collapsed": true
   },
   "outputs": [],
   "source": []
  },
  {
   "cell_type": "markdown",
   "metadata": {},
   "source": [
    "**Exercise (challenging).** Add labels to the bubbles so we know which country they correspond to."
   ]
  },
  {
   "cell_type": "code",
   "execution_count": null,
   "metadata": {
    "collapsed": false
   },
   "outputs": [],
   "source": [
    "# scatterplot of life expectancy vs gdp per capita\n",
    "fig, ax = plt.subplots()\n",
    "ax.scatter(df['gdppc'], df['life'],     # x,y variables\n",
    "            s=df['pop']/10**6,          # size of bubbles\n",
    "            alpha=0.5)   \n",
    "ax.set_title('Life expectancy vs. GDP per capita', loc='left', fontsize=14)\n",
    "ax.set_xlabel('GDP Per Capita')\n",
    "ax.set_ylabel('Life Expectancy')\n",
    "ax.text(58, 66, 'Bubble size represents population', horizontalalignment='right')\n",
    "\n",
    "for (x, y, country) in zip(df['gdppc'], df['life'], df.index):\n",
    "    ax.text(x, y, country)"
   ]
  },
  {
   "cell_type": "markdown",
   "metadata": {},
   "source": [
    "## Styles (optional)\n",
    "\n",
    "Graph settings you might like.  "
   ]
  },
  {
   "cell_type": "code",
   "execution_count": null,
   "metadata": {
    "collapsed": false
   },
   "outputs": [],
   "source": [
    "gdp_bar()"
   ]
  },
  {
   "cell_type": "markdown",
   "metadata": {},
   "source": [
    "**Exercise.**  Create the same graph with this statement at the top:\n",
    "```python\n",
    "plt.style.use('fivethirtyeight')\n",
    "```\n",
    "(Once we execute this statement, it stays executed.) "
   ]
  },
  {
   "cell_type": "markdown",
   "metadata": {},
   "source": [
    "**Comment.** We can get a list of files from `plt.style.available`.  "
   ]
  },
  {
   "cell_type": "code",
   "execution_count": null,
   "metadata": {
    "collapsed": false
   },
   "outputs": [],
   "source": [
    "plt.style.available"
   ]
  },
  {
   "cell_type": "markdown",
   "metadata": {},
   "source": [
    "**Exercise.** Try another one by editing the code below.  "
   ]
  },
  {
   "cell_type": "code",
   "execution_count": null,
   "metadata": {
    "collapsed": false
   },
   "outputs": [],
   "source": [
    "plt.style.use(\"bmh\")\n",
    "gdp_bar()"
   ]
  },
  {
   "cell_type": "markdown",
   "metadata": {},
   "source": [
    "**Comment.** For aficionados, the always tasteful [xkcd style](http://xkcd.com/1235/).  "
   ]
  },
  {
   "cell_type": "code",
   "execution_count": null,
   "metadata": {
    "collapsed": false
   },
   "outputs": [],
   "source": [
    "plt.xkcd()\n",
    "fig, ax = plt.subplots()\n",
    "df['gdp'].plot(ax=ax, kind='barh', alpha=0.5)\n",
    "ax.set_title('GDP', loc='left', fontsize=14)\n",
    "ax.set_xlabel('Trillions of US Dollars')\n",
    "ax.set_ylabel('')"
   ]
  },
  {
   "cell_type": "markdown",
   "metadata": {},
   "source": [
    "Note the wiggly lines and different font, perfect for suggesting a hand-drawn graph."
   ]
  },
  {
   "cell_type": "markdown",
   "metadata": {},
   "source": [
    "**Exercise.** Try one of these styles:  `ggplot`, `bmh`, `dark_background`, and `grayscale`.  Which ones do you like?  Why?"
   ]
  },
  {
   "cell_type": "code",
   "execution_count": null,
   "metadata": {
    "collapsed": true
   },
   "outputs": [],
   "source": []
  },
  {
   "cell_type": "markdown",
   "metadata": {},
   "source": [
    "When we're done, we reset the style with these two lines in an code cell:"
   ]
  },
  {
   "cell_type": "code",
   "execution_count": null,
   "metadata": {
    "collapsed": true
   },
   "outputs": [],
   "source": [
    "mpl.rcParams.update(mpl.rcParamsDefault)\n",
    "%matplotlib inline"
   ]
  },
  {
   "cell_type": "markdown",
   "metadata": {},
   "source": [
    "### Pokemon"
   ]
  },
  {
   "cell_type": "code",
   "execution_count": null,
   "metadata": {
    "collapsed": true
   },
   "outputs": [],
   "source": [
    "url1 = \"https://raw.githubusercontent.com/NYUDataBootcamp/Materials/\"\n",
    "url2 = \"master/Data/Pokemon.csv\"\n",
    "url = url1 + url2\n",
    "pokemon = pd.read_csv(url)"
   ]
  },
  {
   "cell_type": "code",
   "execution_count": null,
   "metadata": {
    "collapsed": false
   },
   "outputs": [],
   "source": [
    "pokemon.head()"
   ]
  },
  {
   "cell_type": "code",
   "execution_count": null,
   "metadata": {
    "collapsed": false
   },
   "outputs": [],
   "source": [
    "pokemon.shape"
   ]
  },
  {
   "cell_type": "code",
   "execution_count": null,
   "metadata": {
    "collapsed": false
   },
   "outputs": [],
   "source": [
    "type1s = pokemon[\"Type 1\"].value_counts().sort_index()\n",
    "type1s"
   ]
  },
  {
   "cell_type": "code",
   "execution_count": null,
   "metadata": {
    "collapsed": false
   },
   "outputs": [],
   "source": [
    "type1s.plot.pie()"
   ]
  },
  {
   "cell_type": "code",
   "execution_count": null,
   "metadata": {
    "collapsed": false
   },
   "outputs": [],
   "source": [
    "type2s = pokemon[\"Type 2\"].value_counts().sort_index()\n",
    "type2s.plot.pie()"
   ]
  },
  {
   "cell_type": "code",
   "execution_count": null,
   "metadata": {
    "collapsed": false
   },
   "outputs": [],
   "source": [
    "fig, ax = plt.subplots(1, 2, figsize=(12, 4))\n",
    "type1s.plot.pie(ax=ax[0])\n",
    "type2s.plot.pie(ax=ax[1])\n",
    "ax[0].set_title(\"Type 1\")\n",
    "ax[1].set_title(\"Type 2\")\n",
    "ax[0].set_ylabel(\"\")\n",
    "ax[1].set_ylabel(\"\")"
   ]
  },
  {
   "cell_type": "code",
   "execution_count": null,
   "metadata": {
    "collapsed": false
   },
   "outputs": [],
   "source": [
    "pokemon[\"Generation\"].value_counts().sort_index()"
   ]
  },
  {
   "cell_type": "code",
   "execution_count": null,
   "metadata": {
    "collapsed": false
   },
   "outputs": [],
   "source": [
    "precent_legendary = (pokemon[\"Legendary\"].sum() / pokemon.shape[0]) * 100\n",
    "print(precent_legendary, \"% of the Pokemon are 'Legendary'\")"
   ]
  },
  {
   "cell_type": "code",
   "execution_count": null,
   "metadata": {
    "collapsed": false
   },
   "outputs": [],
   "source": [
    "fig, ax = plt.subplots()\n",
    "pokemon.plot.kde(y=[\"Attack\", \"Defense\", \"HP\"], ax=ax)"
   ]
  },
  {
   "cell_type": "code",
   "execution_count": null,
   "metadata": {
    "collapsed": false
   },
   "outputs": [],
   "source": [
    "pokemon.plot.scatter(x=\"Attack\", y=\"Defense\")"
   ]
  },
  {
   "cell_type": "code",
   "execution_count": null,
   "metadata": {
    "collapsed": false
   },
   "outputs": [],
   "source": [
    "pokemon[pokemon[\"Attack\"] < 15]"
   ]
  },
  {
   "cell_type": "markdown",
   "metadata": {},
   "source": [
    "**Exercise.** Make a histogram of the columns `Sp. Atk`, `Sp. Def`, and `Speed`."
   ]
  },
  {
   "cell_type": "code",
   "execution_count": null,
   "metadata": {
    "collapsed": true
   },
   "outputs": [],
   "source": []
  },
  {
   "cell_type": "markdown",
   "metadata": {},
   "source": [
    "**Exercise.** Make the hisotgrams again, but this time have them be in the same figure, on 3 separate axes (probably 3 rows and one column)"
   ]
  },
  {
   "cell_type": "code",
   "execution_count": null,
   "metadata": {
    "collapsed": true
   },
   "outputs": [],
   "source": []
  },
  {
   "cell_type": "markdown",
   "metadata": {},
   "source": [
    "**Exercise.** To your plot with subplots, add a kde plot on top of each histogram. (HINT: you will need to use the `fig, ax = plt.subplots(3, 1)` syntax)"
   ]
  },
  {
   "cell_type": "code",
   "execution_count": null,
   "metadata": {
    "collapsed": true
   },
   "outputs": [],
   "source": []
  },
  {
   "cell_type": "markdown",
   "metadata": {},
   "source": [
    "## Review\n",
    "\n",
    "Consider the data from Randal Olson's [blog post](http://www.randalolson.com/2014/06/28/how-to-make-beautiful-data-visualizations-in-python-with-matplotlib/):"
   ]
  },
  {
   "cell_type": "code",
   "execution_count": null,
   "metadata": {
    "collapsed": true
   },
   "outputs": [],
   "source": [
    "import pandas as pd\n",
    "data = {'Food': ['French Fries', 'Potato Chips', 'Bacon', 'Pizza', 'Chili Dog'],\n",
    "        'Calories per 100g':  [607, 542, 533, 296, 260]}\n",
    "cals = pd.DataFrame(data)"
   ]
  },
  {
   "cell_type": "markdown",
   "metadata": {},
   "source": [
    "The dataframe `cals` contains the calories in 100 grams of several different foods.\n",
    "\n",
    "\n",
    "**Exercise.** We'll create and modify visualizations of this data:\n",
    "\n",
    "* Set `'Food'` as the index of `cals`.\n",
    "* Create a bar chart with `cals` using figure and axis objects.\n",
    "* Add a title.\n",
    "* Change the color of the bars.  What color do you prefer?\n",
    "* Add the argument `alpha=0.5`.  What does it do?\n",
    "* Change your chart to a horizontal bar chart.  Which do you prefer?\n",
    "* *Challenging.*  Eliminate the legend.\n",
    "* *Challenging.*  Skim the top of Olson's [blog post](http://www.randalolson.com/2014/06/28/how-to-make-beautiful-data-visualizations-in-python-with-matplotlib/). What do you see that you'd like to imitate?"
   ]
  },
  {
   "cell_type": "code",
   "execution_count": null,
   "metadata": {
    "collapsed": true
   },
   "outputs": [],
   "source": []
  },
  {
   "cell_type": "markdown",
   "metadata": {},
   "source": [
    "## Where does that leave us?\n",
    "\n",
    "* We now have several ways to produce graphs.  \n",
    "* Next up:  think about what we want to graph and why. The tools serve that higher purpose.  "
   ]
  },
  {
   "cell_type": "code",
   "execution_count": null,
   "metadata": {
    "collapsed": true
   },
   "outputs": [],
   "source": []
  }
 ],
 "metadata": {
  "anaconda-cloud": {},
  "kernelspec": {
   "display_name": "Python [Root]",
   "language": "python",
   "name": "Python [Root]"
  },
  "language_info": {
   "codemirror_mode": {
    "name": "ipython",
    "version": 3
   },
   "file_extension": ".py",
   "mimetype": "text/x-python",
   "name": "python",
   "nbconvert_exporter": "python",
   "pygments_lexer": "ipython3",
   "version": "3.5.2"
  }
 },
 "nbformat": 4,
 "nbformat_minor": 0
}
